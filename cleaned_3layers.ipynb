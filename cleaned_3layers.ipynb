{
 "cells": [
  {
   "cell_type": "code",
   "execution_count": 1,
   "metadata": {
    "execution": {
     "iopub.execute_input": "2023-08-18T11:59:07.273709Z",
     "iopub.status.busy": "2023-08-18T11:59:07.273258Z",
     "iopub.status.idle": "2023-08-18T11:59:09.380947Z",
     "shell.execute_reply": "2023-08-18T11:59:09.377754Z"
    }
   },
   "outputs": [
    {
     "name": "stderr",
     "output_type": "stream",
     "text": [
      "/var/folders/mh/v3x6dz8534gcdj91_hh0bdph0000gn/T/ipykernel_22608/4190158425.py:6: DeprecationWarning: ``qiskit.algorithms`` has been migrated to an independent package: https://github.com/qiskit-community/qiskit-algorithms. The ``qiskit.algorithms`` import path is deprecated as of qiskit-terra 0.25.0 and will be removed no earlier than 3 months after the release date. Please run ``pip install qiskit_algorithms`` and use ``import qiskit_algorithms`` instead.\n",
      "  from qiskit.algorithms.optimizers import COBYLA\n"
     ]
    }
   ],
   "source": [
    "import json\n",
    "import matplotlib.pyplot as plt\n",
    "import numpy as np\n",
    "from IPython.display import clear_output\n",
    "from qiskit import QuantumCircuit\n",
    "from qiskit.algorithms.optimizers import COBYLA\n",
    "from qiskit.circuit import ParameterVector\n",
    "from qiskit.circuit.library import ZFeatureMap\n",
    "from qiskit.quantum_info import SparsePauliOp\n",
    "from qiskit.utils import algorithm_globals\n",
    "from qiskit_machine_learning.algorithms.classifiers import NeuralNetworkClassifier\n",
    "from qiskit_machine_learning.neural_networks import EstimatorQNN\n",
    "from sklearn.model_selection import train_test_split\n",
    "import os\n",
    "import tensorflow as tf\n",
    "from tensorflow.keras.preprocessing.image import ImageDataGenerator\n",
    "\n",
    "algorithm_globals.random_seed = 12345\n",
    "\n",
    "def conv_circuit(params):\n",
    "    target = QuantumCircuit(2)\n",
    "    target.rz(-np.pi / 2, 1)\n",
    "    target.cx(1, 0)\n",
    "    target.rz(params[0], 0)\n",
    "    target.ry(params[1], 1)\n",
    "    target.cx(0, 1)\n",
    "    target.ry(params[2], 1)\n",
    "    target.cx(1, 0)\n",
    "    target.rz(np.pi / 2, 0)\n",
    "    return target\n",
    "\n",
    "def conv_layer(num_qubits, param_prefix):\n",
    "    qc = QuantumCircuit(num_qubits, name=\"Convolutional Layer\")\n",
    "    qubits = list(range(num_qubits))\n",
    "    param_index = 0\n",
    "    params = ParameterVector(param_prefix, length=num_qubits * 3)\n",
    "    for q1, q2 in zip(qubits[0::2], qubits[1::2]):\n",
    "        qc = qc.compose(conv_circuit(params[param_index : (param_index + 3)]), [q1, q2])\n",
    "        qc.barrier()\n",
    "        param_index += 3\n",
    "    for q1, q2 in zip(qubits[1::2], qubits[2::2] + [0]):\n",
    "        qc = qc.compose(conv_circuit(params[param_index : (param_index + 3)]), [q1, q2])\n",
    "        qc.barrier()\n",
    "        param_index += 3\n",
    "\n",
    "    qc_inst = qc.to_instruction()\n",
    "\n",
    "    qc = QuantumCircuit(num_qubits)\n",
    "    qc.append(qc_inst, qubits)\n",
    "    return qc\n",
    "\n",
    "def pool_circuit(params):\n",
    "    target = QuantumCircuit(2)\n",
    "    target.rz(-np.pi / 2, 1)\n",
    "    target.cx(1, 0)\n",
    "    target.rz(params[0], 0)\n",
    "    target.ry(params[1], 1)\n",
    "    target.cx(0, 1)\n",
    "    target.ry(params[2], 1)\n",
    "\n",
    "    return target\n",
    "\n",
    "def pool_layer(sources, sinks, param_prefix):\n",
    "    num_qubits = len(sources) + len(sinks)\n",
    "    qc = QuantumCircuit(num_qubits, name=\"Pooling Layer\")\n",
    "    param_index = 0\n",
    "    params = ParameterVector(param_prefix, length=num_qubits // 2 * 3)\n",
    "    for source, sink in zip(sources, sinks):\n",
    "        qc = qc.compose(pool_circuit(params[param_index : (param_index + 3)]), [source, sink])\n",
    "        qc.barrier()\n",
    "        param_index += 3\n",
    "\n",
    "    qc_inst = qc.to_instruction()\n",
    "\n",
    "    qc = QuantumCircuit(num_qubits)\n",
    "    qc.append(qc_inst, range(num_qubits))\n",
    "    return qc"
   ]
  },
  {
   "cell_type": "code",
   "execution_count": 2,
   "metadata": {},
   "outputs": [],
   "source": [
    "# Define paths to your train data folders\n",
    "train_data_dir = 'test'\n",
    "\n",
    "# Set image dimensions and batch size\n",
    "img_width, img_height = 6,6\n",
    "batch_size = 32"
   ]
  },
  {
   "cell_type": "code",
   "execution_count": 3,
   "metadata": {},
   "outputs": [
    {
     "name": "stdout",
     "output_type": "stream",
     "text": [
      "Found 7178 images belonging to 7 classes.\n",
      "Class Indices: {'angry': 0, 'disgust': 1, 'fear': 2, 'happy': 3, 'neutral': 4, 'sad': 5, 'surprise': 6}\n",
      "X_train shape: (7178, 6, 6, 3)\n",
      "Y_train_one_hot shape: (7178, 7, 7)\n"
     ]
    },
    {
     "data": {
      "text/plain": [
       "\"\\nOutput:\\nFound 7178 images belonging to 7 classes.\\nClass Indices: {'angry': 0, 'disgust': 1, 'fear': 2, 'happy': 3, 'neutral': 4, 'sad': 5, 'surprise': 6}\\nX_train shape: (7178, 48, 48, 3)\\nY_train_one_hot shape: (7178, 7, 7)\\n\""
      ]
     },
     "execution_count": 3,
     "metadata": {},
     "output_type": "execute_result"
    }
   ],
   "source": [
    "# Create an ImageDataGenerator for data preprocessing and augmentation\n",
    "datagen = ImageDataGenerator(\n",
    "    rescale=1.0 / 255.0,\n",
    "    rotation_range=20,\n",
    "    width_shift_range=0.2,\n",
    "    height_shift_range=0.2,\n",
    "    shear_range=0.2,\n",
    "    zoom_range=0.2,\n",
    "    horizontal_flip=True,\n",
    "    fill_mode='nearest'\n",
    ")\n",
    "\n",
    "# Generate training data\n",
    "train_generator = datagen.flow_from_directory(\n",
    "    train_data_dir,\n",
    "    target_size=(img_width, img_height),\n",
    "    batch_size=batch_size,\n",
    "    class_mode='categorical',\n",
    "    shuffle=True,\n",
    "    color_mode='rgb'\n",
    ")\n",
    "\n",
    "# Extract X_train (input images) and Y_train (labels)\n",
    "X_train = []\n",
    "Y_train = []\n",
    "\n",
    "for images, labels in train_generator:\n",
    "    X_train.extend(images)\n",
    "    Y_train.extend(labels)\n",
    "    \n",
    "    if len(X_train) >= len(train_generator.filenames):\n",
    "        break\n",
    "\n",
    "X_train = np.array(X_train)\n",
    "Y_train = np.array(Y_train)\n",
    "\n",
    "# Print class labels and their corresponding indices\n",
    "class_indices = train_generator.class_indices\n",
    "print(\"Class Indices:\", class_indices)\n",
    "\n",
    "# Convert labels to one-hot encoding\n",
    "num_classes = len(class_indices)\n",
    "Y_train_one_hot = tf.keras.utils.to_categorical(Y_train, num_classes=num_classes)\n",
    "\n",
    "print(\"X_train shape:\", X_train.shape)\n",
    "print(\"Y_train_one_hot shape:\", Y_train_one_hot.shape)\n",
    "\n",
    "'''\n",
    "Output:\n",
    "Found 7178 images belonging to 7 classes.\n",
    "Class Indices: {'angry': 0, 'disgust': 1, 'fear': 2, 'happy': 3, 'neutral': 4, 'sad': 5, 'surprise': 6}\n",
    "X_train shape: (7178, 48, 48, 3)\n",
    "Y_train_one_hot shape: (7178, 7, 7)\n",
    "'''"
   ]
  },
  {
   "cell_type": "code",
   "execution_count": 4,
   "metadata": {},
   "outputs": [
    {
     "data": {
      "text/plain": [
       "'pca = PCA(n_components=6)\\nX_train_pca = pca.fit_transform(X_train_flat)\\n\\nX_train_pca.shape'"
      ]
     },
     "execution_count": 4,
     "metadata": {},
     "output_type": "execute_result"
    }
   ],
   "source": [
    "from sklearn.decomposition import PCA\n",
    "\n",
    "# Confirming the images are grayscale by checking if all channels have the same values\n",
    "assert np.all(X_train[:,:,:,0] == X_train[:,:,:,1]) and np.all(X_train[:,:,:,0] == X_train[:,:,:,2])\n",
    "\n",
    "# Dropping the redundant channels\n",
    "X_train = X_train[:,:,:,0]\n",
    "\n",
    "# Flattening the images\n",
    "X_train_flat = X_train.reshape(X_train.shape[0], -1)\n",
    "\n",
    "# Applying PCA\n",
    "'''pca = PCA(n_components=6)\n",
    "X_train_pca = pca.fit_transform(X_train_flat)\n",
    "\n",
    "X_train_pca.shape'''"
   ]
  },
  {
   "cell_type": "code",
   "execution_count": 5,
   "id": "7a00f044",
   "metadata": {},
   "outputs": [
    {
     "data": {
      "text/plain": [
       "((7178, 36), (7178, 7, 7))"
      ]
     },
     "execution_count": 5,
     "metadata": {},
     "output_type": "execute_result"
    }
   ],
   "source": [
    "\n",
    "# Assuming the necessary libraries and functions have been imported previously\n",
    "# Extracting the shape of X_train and Y_train_one_hot\n",
    "X_train_shape = X_train_flat.shape\n",
    "Y_train_one_hot_shape = Y_train_one_hot.shape\n",
    "\n",
    "X_train_shape, Y_train_one_hot_shape\n"
   ]
  },
  {
   "cell_type": "code",
   "execution_count": 6,
   "metadata": {},
   "outputs": [],
   "source": [
    "def callback_graph(weights, obj_func_eval):\n",
    "    clear_output(wait=True)\n",
    "    objective_func_vals.append(obj_func_eval)\n",
    "    plt.title(\"Objective function value against iteration\")\n",
    "    plt.xlabel(\"Iteration\")\n",
    "    plt.ylabel(\"Objective function value\")\n",
    "    plt.plot(range(len(objective_func_vals)), objective_func_vals)\n",
    "    plt.show()"
   ]
  },
  {
   "cell_type": "code",
   "execution_count": 14,
   "metadata": {},
   "outputs": [],
   "source": [
    "# Adjust the feature map for 6 qubits\n",
    "feature_map = ZFeatureMap(6)\n",
    "\n",
    "ansatz = QuantumCircuit(6, name=\"Ansatz\")\n",
    "\n",
    "# First Convolutional Layer\n",
    "ansatz.compose(conv_layer(6, \"с1\"), list(range(6)), inplace=True)\n",
    "\n",
    "# First Pooling Layer\n",
    "ansatz.compose(pool_layer([0, 1, 2], [3, 4, 5], \"p1\"), list(range(6)), inplace=True)\n",
    "\n",
    "# Second Convolutional Layer\n",
    "# Note: We've reduced the convolutional layer to cover qubits 3 to 5\n",
    "ansatz.compose(conv_layer(3, \"c2\"), list(range(3, 6)), inplace=True)\n",
    "\n",
    "# Second Pooling Layer\n",
    "# Note: We've adjusted the pooling layer to cover qubits 3 to 4\n",
    "ansatz.compose(pool_layer([0, 1], [2], \"p2\"), list(range(3, 6)), inplace=True)\n",
    "\n",
    "# Third Convolutional Layer\n",
    "# Note: This convolutional layer now only covers qubit 5\n",
    "ansatz.compose(conv_layer(1, \"c3\"), list(range(5, 6)), inplace=True)\n",
    "\n",
    "# We will omit the third pooling layer as it doesn't make sense with just 1 qubit\n",
    "\n",
    "# Combining the feature map and ansatz\n",
    "circuit = QuantumCircuit(7)  # Adjusted for 6 qubits + 1 ancilla\n",
    "circuit.compose(feature_map, range(6), inplace=True)\n",
    "circuit.compose(ansatz, range(6), inplace=True)\n",
    "\n",
    "observable = [SparsePauliOp.from_list([('Z' + 'I' * i + 'Z' + 'I' * (5 - i), 1)]) for i in range(6)]\n",
    "\n",
    "# we decompose the circuit for the QNN to avoid additional data copying\n",
    "qnn = EstimatorQNN(\n",
    "    circuit=circuit.decompose(),\n",
    "    observables=observable,\n",
    "    input_params=feature_map.parameters,\n",
    "    weight_params=ansatz.parameters,\n",
    ")\n",
    "\n",
    "from qiskit.algorithms.optimizers import ADAM\n",
    "optimizer = ADAM(maxiter=100)\n",
    "\n",
    "classifier = NeuralNetworkClassifier(\n",
    "    qnn,\n",
    "    optimizer=optimizer,\n",
    "    callback=callback_graph\n",
    ")"
   ]
  },
  {
   "cell_type": "code",
   "execution_count": 15,
   "metadata": {},
   "outputs": [
    {
     "name": "stdout",
     "output_type": "stream",
     "text": [
      "ParameterView([ParameterVectorElement(x[0]), ParameterVectorElement(x[1]), ParameterVectorElement(x[2]), ParameterVectorElement(x[3]), ParameterVectorElement(x[4]), ParameterVectorElement(x[5])])\n"
     ]
    }
   ],
   "source": [
    "print(feature_map.parameters)"
   ]
  },
  {
   "cell_type": "code",
   "execution_count": 17,
   "metadata": {},
   "outputs": [
    {
     "ename": "KeyboardInterrupt",
     "evalue": "",
     "output_type": "error",
     "traceback": [
      "\u001b[0;31m---------------------------------------------------------------------------\u001b[0m",
      "\u001b[0;31mKeyboardInterrupt\u001b[0m                         Traceback (most recent call last)",
      "\u001b[1;32m/Users/avyarathod/Desktop/Coding shit/Quantum/cleaned_3layers.ipynb Cell 9\u001b[0m in \u001b[0;36m<cell line: 3>\u001b[0;34m()\u001b[0m\n\u001b[1;32m      <a href='vscode-notebook-cell:/Users/avyarathod/Desktop/Coding%20shit/Quantum/cleaned_3layers.ipynb#X11sZmlsZQ%3D%3D?line=0'>1</a>\u001b[0m objective_func_vals \u001b[39m=\u001b[39m []\n\u001b[1;32m      <a href='vscode-notebook-cell:/Users/avyarathod/Desktop/Coding%20shit/Quantum/cleaned_3layers.ipynb#X11sZmlsZQ%3D%3D?line=1'>2</a>\u001b[0m plt\u001b[39m.\u001b[39mrcParams[\u001b[39m\"\u001b[39m\u001b[39mfigure.figsize\u001b[39m\u001b[39m\"\u001b[39m] \u001b[39m=\u001b[39m (\u001b[39m12\u001b[39m, \u001b[39m6\u001b[39m)\n\u001b[0;32m----> <a href='vscode-notebook-cell:/Users/avyarathod/Desktop/Coding%20shit/Quantum/cleaned_3layers.ipynb#X11sZmlsZQ%3D%3D?line=2'>3</a>\u001b[0m classifier\u001b[39m.\u001b[39;49mfit(X_train, Y_train_one_hot)\n\u001b[1;32m      <a href='vscode-notebook-cell:/Users/avyarathod/Desktop/Coding%20shit/Quantum/cleaned_3layers.ipynb#X11sZmlsZQ%3D%3D?line=4'>5</a>\u001b[0m \u001b[39m'''output\u001b[39;00m\n\u001b[1;32m      <a href='vscode-notebook-cell:/Users/avyarathod/Desktop/Coding%20shit/Quantum/cleaned_3layers.ipynb#X11sZmlsZQ%3D%3D?line=5'>6</a>\u001b[0m \n\u001b[1;32m      <a href='vscode-notebook-cell:/Users/avyarathod/Desktop/Coding%20shit/Quantum/cleaned_3layers.ipynb#X11sZmlsZQ%3D%3D?line=6'>7</a>\u001b[0m \u001b[39mcapi_return is NULL\u001b[39;00m\n\u001b[1;32m      <a href='vscode-notebook-cell:/Users/avyarathod/Desktop/Coding%20shit/Quantum/cleaned_3layers.ipynb#X11sZmlsZQ%3D%3D?line=7'>8</a>\u001b[0m \u001b[39mCall-back cb_calcfc_in__cobyla__user__routines failed.\u001b[39;00m\n\u001b[1;32m      <a href='vscode-notebook-cell:/Users/avyarathod/Desktop/Coding%20shit/Quantum/cleaned_3layers.ipynb#X11sZmlsZQ%3D%3D?line=8'>9</a>\u001b[0m \u001b[39m'''\u001b[39;00m\n",
      "File \u001b[0;32m/opt/homebrew/Caskroom/miniconda/base/envs/seg_models/lib/python3.9/site-packages/qiskit_machine_learning/algorithms/trainable_model.py:199\u001b[0m, in \u001b[0;36mTrainableModel.fit\u001b[0;34m(self, X, y)\u001b[0m\n\u001b[1;32m    196\u001b[0m \u001b[39mif\u001b[39;00m \u001b[39mnot\u001b[39;00m \u001b[39mself\u001b[39m\u001b[39m.\u001b[39m_warm_start:\n\u001b[1;32m    197\u001b[0m     \u001b[39mself\u001b[39m\u001b[39m.\u001b[39m_fit_result \u001b[39m=\u001b[39m \u001b[39mNone\u001b[39;00m\n\u001b[0;32m--> 199\u001b[0m \u001b[39mself\u001b[39m\u001b[39m.\u001b[39m_fit_result \u001b[39m=\u001b[39m \u001b[39mself\u001b[39;49m\u001b[39m.\u001b[39;49m_fit_internal(X, y)\n\u001b[1;32m    200\u001b[0m \u001b[39mreturn\u001b[39;00m \u001b[39mself\u001b[39m\n",
      "File \u001b[0;32m/opt/homebrew/Caskroom/miniconda/base/envs/seg_models/lib/python3.9/site-packages/qiskit_machine_learning/algorithms/classifiers/neural_network_classifier.py:115\u001b[0m, in \u001b[0;36mNeuralNetworkClassifier._fit_internal\u001b[0;34m(self, X, y)\u001b[0m\n\u001b[1;32m    112\u001b[0m X, y \u001b[39m=\u001b[39m \u001b[39mself\u001b[39m\u001b[39m.\u001b[39m_validate_input(X, y)\n\u001b[1;32m    114\u001b[0m function \u001b[39m=\u001b[39m \u001b[39mself\u001b[39m\u001b[39m.\u001b[39m_create_objective(X, y)\n\u001b[0;32m--> 115\u001b[0m \u001b[39mreturn\u001b[39;00m \u001b[39mself\u001b[39;49m\u001b[39m.\u001b[39;49m_minimize(function)\n",
      "File \u001b[0;32m/opt/homebrew/Caskroom/miniconda/base/envs/seg_models/lib/python3.9/site-packages/qiskit_machine_learning/algorithms/trainable_model.py:295\u001b[0m, in \u001b[0;36mTrainableModel._minimize\u001b[0;34m(self, function)\u001b[0m\n\u001b[1;32m    291\u001b[0m     optimizer_result \u001b[39m=\u001b[39m \u001b[39mself\u001b[39m\u001b[39m.\u001b[39m_optimizer(\n\u001b[1;32m    292\u001b[0m         fun\u001b[39m=\u001b[39mobjective, x0\u001b[39m=\u001b[39minitial_point, jac\u001b[39m=\u001b[39mfunction\u001b[39m.\u001b[39mgradient\n\u001b[1;32m    293\u001b[0m     )\n\u001b[1;32m    294\u001b[0m \u001b[39melse\u001b[39;00m:\n\u001b[0;32m--> 295\u001b[0m     optimizer_result \u001b[39m=\u001b[39m \u001b[39mself\u001b[39;49m\u001b[39m.\u001b[39;49m_optimizer\u001b[39m.\u001b[39;49mminimize(\n\u001b[1;32m    296\u001b[0m         fun\u001b[39m=\u001b[39;49mobjective,\n\u001b[1;32m    297\u001b[0m         x0\u001b[39m=\u001b[39;49minitial_point,\n\u001b[1;32m    298\u001b[0m         jac\u001b[39m=\u001b[39;49mfunction\u001b[39m.\u001b[39;49mgradient,\n\u001b[1;32m    299\u001b[0m     )\n\u001b[1;32m    300\u001b[0m \u001b[39mreturn\u001b[39;00m optimizer_result\n",
      "File \u001b[0;32m/opt/homebrew/Caskroom/miniconda/base/envs/seg_models/lib/python3.9/site-packages/qiskit/utils/deprecation.py:182\u001b[0m, in \u001b[0;36mdeprecate_arg.<locals>.decorator.<locals>.wrapper\u001b[0;34m(*args, **kwargs)\u001b[0m\n\u001b[1;32m    169\u001b[0m \u001b[39m@functools\u001b[39m\u001b[39m.\u001b[39mwraps(func)\n\u001b[1;32m    170\u001b[0m \u001b[39mdef\u001b[39;00m \u001b[39mwrapper\u001b[39m(\u001b[39m*\u001b[39margs, \u001b[39m*\u001b[39m\u001b[39m*\u001b[39mkwargs):\n\u001b[1;32m    171\u001b[0m     _maybe_warn_and_rename_kwarg(\n\u001b[1;32m    172\u001b[0m         args,\n\u001b[1;32m    173\u001b[0m         kwargs,\n\u001b[0;32m   (...)\u001b[0m\n\u001b[1;32m    180\u001b[0m         predicate\u001b[39m=\u001b[39mpredicate,\n\u001b[1;32m    181\u001b[0m     )\n\u001b[0;32m--> 182\u001b[0m     \u001b[39mreturn\u001b[39;00m func(\u001b[39m*\u001b[39;49margs, \u001b[39m*\u001b[39;49m\u001b[39m*\u001b[39;49mkwargs)\n",
      "File \u001b[0;32m/opt/homebrew/Caskroom/miniconda/base/envs/seg_models/lib/python3.9/site-packages/qiskit/utils/deprecation.py:182\u001b[0m, in \u001b[0;36mdeprecate_arg.<locals>.decorator.<locals>.wrapper\u001b[0;34m(*args, **kwargs)\u001b[0m\n\u001b[1;32m    169\u001b[0m \u001b[39m@functools\u001b[39m\u001b[39m.\u001b[39mwraps(func)\n\u001b[1;32m    170\u001b[0m \u001b[39mdef\u001b[39;00m \u001b[39mwrapper\u001b[39m(\u001b[39m*\u001b[39margs, \u001b[39m*\u001b[39m\u001b[39m*\u001b[39mkwargs):\n\u001b[1;32m    171\u001b[0m     _maybe_warn_and_rename_kwarg(\n\u001b[1;32m    172\u001b[0m         args,\n\u001b[1;32m    173\u001b[0m         kwargs,\n\u001b[0;32m   (...)\u001b[0m\n\u001b[1;32m    180\u001b[0m         predicate\u001b[39m=\u001b[39mpredicate,\n\u001b[1;32m    181\u001b[0m     )\n\u001b[0;32m--> 182\u001b[0m     \u001b[39mreturn\u001b[39;00m func(\u001b[39m*\u001b[39;49margs, \u001b[39m*\u001b[39;49m\u001b[39m*\u001b[39;49mkwargs)\n",
      "File \u001b[0;32m/opt/homebrew/Caskroom/miniconda/base/envs/seg_models/lib/python3.9/site-packages/qiskit/utils/deprecation.py:182\u001b[0m, in \u001b[0;36mdeprecate_arg.<locals>.decorator.<locals>.wrapper\u001b[0;34m(*args, **kwargs)\u001b[0m\n\u001b[1;32m    169\u001b[0m \u001b[39m@functools\u001b[39m\u001b[39m.\u001b[39mwraps(func)\n\u001b[1;32m    170\u001b[0m \u001b[39mdef\u001b[39;00m \u001b[39mwrapper\u001b[39m(\u001b[39m*\u001b[39margs, \u001b[39m*\u001b[39m\u001b[39m*\u001b[39mkwargs):\n\u001b[1;32m    171\u001b[0m     _maybe_warn_and_rename_kwarg(\n\u001b[1;32m    172\u001b[0m         args,\n\u001b[1;32m    173\u001b[0m         kwargs,\n\u001b[0;32m   (...)\u001b[0m\n\u001b[1;32m    180\u001b[0m         predicate\u001b[39m=\u001b[39mpredicate,\n\u001b[1;32m    181\u001b[0m     )\n\u001b[0;32m--> 182\u001b[0m     \u001b[39mreturn\u001b[39;00m func(\u001b[39m*\u001b[39;49margs, \u001b[39m*\u001b[39;49m\u001b[39m*\u001b[39;49mkwargs)\n",
      "File \u001b[0;32m/opt/homebrew/Caskroom/miniconda/base/envs/seg_models/lib/python3.9/site-packages/qiskit/algorithms/optimizers/adam_amsgrad.py:232\u001b[0m, in \u001b[0;36mADAM.minimize\u001b[0;34m(self, fun, x0, jac, bounds, objective_function, initial_point, gradient_function)\u001b[0m\n\u001b[1;32m    229\u001b[0m \u001b[39mif\u001b[39;00m jac \u001b[39mis\u001b[39;00m \u001b[39mNone\u001b[39;00m:\n\u001b[1;32m    230\u001b[0m     jac \u001b[39m=\u001b[39m Optimizer\u001b[39m.\u001b[39mwrap_function(Optimizer\u001b[39m.\u001b[39mgradient_num_diff, (fun, \u001b[39mself\u001b[39m\u001b[39m.\u001b[39m_eps))\n\u001b[0;32m--> 232\u001b[0m derivative \u001b[39m=\u001b[39m jac(x0)\n\u001b[1;32m    233\u001b[0m \u001b[39mself\u001b[39m\u001b[39m.\u001b[39m_t \u001b[39m=\u001b[39m \u001b[39m0\u001b[39m\n\u001b[1;32m    234\u001b[0m \u001b[39mself\u001b[39m\u001b[39m.\u001b[39m_m \u001b[39m=\u001b[39m np\u001b[39m.\u001b[39mzeros(np\u001b[39m.\u001b[39mshape(derivative))\n",
      "File \u001b[0;32m/opt/homebrew/Caskroom/miniconda/base/envs/seg_models/lib/python3.9/site-packages/qiskit_machine_learning/algorithms/objective_functions.py:169\u001b[0m, in \u001b[0;36mMultiClassObjectiveFunction.gradient\u001b[0;34m(self, weights)\u001b[0m\n\u001b[1;32m    167\u001b[0m \u001b[39mdef\u001b[39;00m \u001b[39mgradient\u001b[39m(\u001b[39mself\u001b[39m, weights: np\u001b[39m.\u001b[39mndarray) \u001b[39m-\u001b[39m\u001b[39m>\u001b[39m np\u001b[39m.\u001b[39mndarray:\n\u001b[1;32m    168\u001b[0m     \u001b[39m# weight probability gradient is of shape (N, num_outputs, num_weights)\u001b[39;00m\n\u001b[0;32m--> 169\u001b[0m     _, weight_prob_grad \u001b[39m=\u001b[39m \u001b[39mself\u001b[39;49m\u001b[39m.\u001b[39;49m_neural_network\u001b[39m.\u001b[39;49mbackward(\u001b[39mself\u001b[39;49m\u001b[39m.\u001b[39;49m_X, weights)\n\u001b[1;32m    171\u001b[0m     grad \u001b[39m=\u001b[39m np\u001b[39m.\u001b[39mzeros((\u001b[39m1\u001b[39m, \u001b[39mself\u001b[39m\u001b[39m.\u001b[39m_neural_network\u001b[39m.\u001b[39mnum_weights))\n\u001b[1;32m    172\u001b[0m     num_samples \u001b[39m=\u001b[39m \u001b[39mself\u001b[39m\u001b[39m.\u001b[39m_X\u001b[39m.\u001b[39mshape[\u001b[39m0\u001b[39m]\n",
      "File \u001b[0;32m/opt/homebrew/Caskroom/miniconda/base/envs/seg_models/lib/python3.9/site-packages/qiskit_machine_learning/neural_networks/neural_network.py:254\u001b[0m, in \u001b[0;36mNeuralNetwork.backward\u001b[0;34m(self, input_data, weights)\u001b[0m\n\u001b[1;32m    252\u001b[0m input_, shape \u001b[39m=\u001b[39m \u001b[39mself\u001b[39m\u001b[39m.\u001b[39m_validate_input(input_data)\n\u001b[1;32m    253\u001b[0m weights_ \u001b[39m=\u001b[39m \u001b[39mself\u001b[39m\u001b[39m.\u001b[39m_validate_weights(weights)\n\u001b[0;32m--> 254\u001b[0m input_grad, weight_grad \u001b[39m=\u001b[39m \u001b[39mself\u001b[39;49m\u001b[39m.\u001b[39;49m_backward(input_, weights_)\n\u001b[1;32m    256\u001b[0m input_grad_reshaped, weight_grad_reshaped \u001b[39m=\u001b[39m \u001b[39mself\u001b[39m\u001b[39m.\u001b[39m_validate_backward_output(\n\u001b[1;32m    257\u001b[0m     input_grad, weight_grad, shape\n\u001b[1;32m    258\u001b[0m )\n\u001b[1;32m    260\u001b[0m \u001b[39mreturn\u001b[39;00m input_grad_reshaped, weight_grad_reshaped\n",
      "File \u001b[0;32m/opt/homebrew/Caskroom/miniconda/base/envs/seg_models/lib/python3.9/site-packages/qiskit_machine_learning/neural_networks/estimator_qnn.py:245\u001b[0m, in \u001b[0;36mEstimatorQNN._backward\u001b[0;34m(self, input_data, weights)\u001b[0m\n\u001b[1;32m    243\u001b[0m \u001b[39mif\u001b[39;00m job \u001b[39mis\u001b[39;00m \u001b[39mnot\u001b[39;00m \u001b[39mNone\u001b[39;00m:\n\u001b[1;32m    244\u001b[0m     \u001b[39mtry\u001b[39;00m:\n\u001b[0;32m--> 245\u001b[0m         results \u001b[39m=\u001b[39m job\u001b[39m.\u001b[39;49mresult()\n\u001b[1;32m    246\u001b[0m     \u001b[39mexcept\u001b[39;00m \u001b[39mException\u001b[39;00m \u001b[39mas\u001b[39;00m exc:\n\u001b[1;32m    247\u001b[0m         \u001b[39mraise\u001b[39;00m QiskitMachineLearningError(\u001b[39m\"\u001b[39m\u001b[39mEstimator job failed.\u001b[39m\u001b[39m\"\u001b[39m) \u001b[39mfrom\u001b[39;00m \u001b[39mexc\u001b[39;00m\n",
      "File \u001b[0;32m/opt/homebrew/Caskroom/miniconda/base/envs/seg_models/lib/python3.9/site-packages/qiskit/primitives/primitive_job.py:55\u001b[0m, in \u001b[0;36mPrimitiveJob.result\u001b[0;34m(self)\u001b[0m\n\u001b[1;32m     53\u001b[0m \u001b[39m\"\"\"Return the results of the job.\"\"\"\u001b[39;00m\n\u001b[1;32m     54\u001b[0m \u001b[39mself\u001b[39m\u001b[39m.\u001b[39m_check_submitted()\n\u001b[0;32m---> 55\u001b[0m \u001b[39mreturn\u001b[39;00m \u001b[39mself\u001b[39;49m\u001b[39m.\u001b[39;49m_future\u001b[39m.\u001b[39;49mresult()\n",
      "File \u001b[0;32m/opt/homebrew/Caskroom/miniconda/base/envs/seg_models/lib/python3.9/concurrent/futures/_base.py:441\u001b[0m, in \u001b[0;36mFuture.result\u001b[0;34m(self, timeout)\u001b[0m\n\u001b[1;32m    438\u001b[0m \u001b[39melif\u001b[39;00m \u001b[39mself\u001b[39m\u001b[39m.\u001b[39m_state \u001b[39m==\u001b[39m FINISHED:\n\u001b[1;32m    439\u001b[0m     \u001b[39mreturn\u001b[39;00m \u001b[39mself\u001b[39m\u001b[39m.\u001b[39m__get_result()\n\u001b[0;32m--> 441\u001b[0m \u001b[39mself\u001b[39;49m\u001b[39m.\u001b[39;49m_condition\u001b[39m.\u001b[39;49mwait(timeout)\n\u001b[1;32m    443\u001b[0m \u001b[39mif\u001b[39;00m \u001b[39mself\u001b[39m\u001b[39m.\u001b[39m_state \u001b[39min\u001b[39;00m [CANCELLED, CANCELLED_AND_NOTIFIED]:\n\u001b[1;32m    444\u001b[0m     \u001b[39mraise\u001b[39;00m CancelledError()\n",
      "File \u001b[0;32m/opt/homebrew/Caskroom/miniconda/base/envs/seg_models/lib/python3.9/threading.py:312\u001b[0m, in \u001b[0;36mCondition.wait\u001b[0;34m(self, timeout)\u001b[0m\n\u001b[1;32m    310\u001b[0m \u001b[39mtry\u001b[39;00m:    \u001b[39m# restore state no matter what (e.g., KeyboardInterrupt)\u001b[39;00m\n\u001b[1;32m    311\u001b[0m     \u001b[39mif\u001b[39;00m timeout \u001b[39mis\u001b[39;00m \u001b[39mNone\u001b[39;00m:\n\u001b[0;32m--> 312\u001b[0m         waiter\u001b[39m.\u001b[39;49macquire()\n\u001b[1;32m    313\u001b[0m         gotit \u001b[39m=\u001b[39m \u001b[39mTrue\u001b[39;00m\n\u001b[1;32m    314\u001b[0m     \u001b[39melse\u001b[39;00m:\n",
      "\u001b[0;31mKeyboardInterrupt\u001b[0m: "
     ]
    },
    {
     "ename": "",
     "evalue": "",
     "output_type": "error",
     "traceback": [
      "\u001b[1;31mThe Kernel crashed while executing code in the the current cell or a previous cell. Please review the code in the cell(s) to identify a possible cause of the failure. Click <a href='https://aka.ms/vscodeJupyterKernelCrash'>here</a> for more info. View Jupyter <a href='command:jupyter.viewOutput'>log</a> for further details."
     ]
    }
   ],
   "source": [
    "objective_func_vals = []\n",
    "plt.rcParams[\"figure.figsize\"] = (12, 6)\n",
    "classifier.fit(X_train, Y_train_one_hot)\n",
    "\n",
    "'''output\n",
    "\n",
    "capi_return is NULL\n",
    "Call-back cb_calcfc_in__cobyla__user__routines failed.\n",
    "'''\n",
    "\n",
    "# score classifier\n",
    "#print(f\"Accuracy from the train data : {np.round(100 * classifier.score(x, y), 2)}%\")"
   ]
  },
  {
   "cell_type": "code",
   "execution_count": null,
   "metadata": {},
   "outputs": [],
   "source": []
  }
 ],
 "metadata": {
  "kernelspec": {
   "display_name": "seg_models",
   "language": "python",
   "name": "python3"
  },
  "language_info": {
   "codemirror_mode": {
    "name": "ipython",
    "version": 3
   },
   "file_extension": ".py",
   "mimetype": "text/x-python",
   "name": "python",
   "nbconvert_exporter": "python",
   "pygments_lexer": "ipython3",
   "version": "3.9.13"
  }
 },
 "nbformat": 4,
 "nbformat_minor": 2
}
